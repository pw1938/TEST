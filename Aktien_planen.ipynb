{
 "cells": [
  {
   "cell_type": "markdown",
   "metadata": {},
   "source": [
    "### Trainieren von LSTM auf den Aktienkurs"
   ]
  },
  {
   "cell_type": "code",
   "execution_count": null,
   "metadata": {
    "scrolled": false,
    "tags": []
   },
   "outputs": [],
   "source": [
    "!pip install bokeh\n",
    "!pip install tensorflow\n",
    "!pip install selenium\n",
    "!pip install pandas_datareader\n",
    "#!conda update -n base conda\n",
    "#!conda install -c conda-forge -y firefox geckodriver\n"
   ]
  },
  {
   "cell_type": "code",
   "execution_count": null,
   "metadata": {},
   "outputs": [],
   "source": [
    "REF_TIME = 0  # Referenzzeitpunkt\n",
    "EPOCHS = 5\n",
    "TEST_SIZE = 0.3\n",
    "TIME_AHEAD = 5 #prediction step\n",
    "BATCH_SIZE = 1\n",
    "UNITS = 25"
   ]
  },
  {
   "cell_type": "markdown",
   "metadata": {},
   "source": [
    "### utils"
   ]
  },
  {
   "cell_type": "code",
   "execution_count": null,
   "metadata": {},
   "outputs": [],
   "source": [
    "import subprocess\n",
    "import os\n",
    "import sys\n",
    "import glob\n",
    "import json\n",
    "import numpy as np\n",
    "import time\n",
    "from ast import literal_eval\n",
    "import matplotlib.pyplot as plt\n",
    "from bokeh.plotting import figure\n",
    "from bokeh.io import show, export_svgs\n",
    "from IPython.display import SVG, display\n",
    "\n",
    "\n",
    "def get_number_processors():\n",
    "    \"\"\"Liefert die Anzahl der Prozessoren in einer CPU.\"\"\"\n",
    "    try:\n",
    "        num = os.cpu_count()\n",
    "    except Exception:\n",
    "        # force exception in case mutiprocessing is not installed\n",
    "        import multiprocessing\n",
    "        num = multiprocessing.cpu_count()\n",
    "    return num\n",
    "\n",
    "\n",
    "def to_1dimension(df, step_size):\n",
    "    \"\"\"Umwandlung in das LSTM-Zeitreihenformat\"\"\"\n",
    "    X, y = [], []\n",
    "    for i in range(len(df)-step_size-1):\n",
    "        data = df[i:(i+step_size), 0]\n",
    "        X.append(data)\n",
    "#        y.append(df[i + step_size, 0])\n",
    "        y.append(df[REF_TIME, 0])\n",
    "    X, y = np.array(X), np.array(y)\n",
    "    X = np.reshape(X, (X.shape[0], 1, X.shape[1]))\n",
    "    return X, y\n",
    "\n",
    "\n",
    "def plot_series(values, xlabel=None, ylabel=None, color='b', legend=None):\n",
    "    \"\"\"Allgemeine Funktion zum Plotten von Serien\"\"\"\n",
    "    xx = np.arange(1, len(values) + 1, 1)\n",
    "    plt.plot(xx, values, color, label=legend)\n",
    "    plt.legend(loc='upper left')\n",
    "    plt.xlabel(xlabel)\n",
    "    plt.ylabel(ylabel)\n",
    "    plt.show()\n",
    "\n",
    "\n",
    "def plot_series_prediction(true_values, train_predict, test_predict,\n",
    "                           time_ahead=1, title=None, xlabel=None, ylabel=None,\n",
    "                           color=['green', 'red', 'blue'],\n",
    "                           legend=[None, None, None]):\n",
    "    \"\"\"Plotten Sie wahre Werte, Zugvorhersage und Testvorhersage mit Bokeh.\"\"\"\n",
    "    TOOLS = 'pan,wheel_zoom,box_zoom,reset,save,box_select'\n",
    "    # x axis\n",
    "    xx = np.array(range(true_values.shape[0]))\n",
    "    xx1 = np.array(range(time_ahead, len(train_predict)+time_ahead))\n",
    "    xx2 = np.array(\n",
    "        range(len(train_predict)+(time_ahead*2)+1, len(true_values)-1))\n",
    "\n",
    "    # figure\n",
    "    p = figure(title=title, tools=TOOLS)\n",
    "    p.line(xx, true_values.squeeze(),\n",
    "           legend=legend[0], line_color=color[0], line_width=2)\n",
    "    p.line(xx1, train_predict.squeeze(),\n",
    "           legend=legend[1], line_color=color[1], line_width=1)\n",
    "    p.line(xx2, test_predict.squeeze(),\n",
    "           legend=legend[2], line_color=color[2], line_width=1)\n",
    "    p.axis[0].axis_label = xlabel\n",
    "    p.axis[1].axis_label = ylabel\n",
    "    p.legend.location = \"top_left\"\n",
    "    show(p)\n",
    "\n",
    "    # save to svg so it is rendered on github\n",
    "    p.output_backend = \"svg\"\n",
    "    export_svgs(p, filename=title + '_.svg')\n",
    "    display(SVG(title + '_.svg'))\n"
   ]
  },
  {
   "cell_type": "code",
   "execution_count": null,
   "metadata": {
    "tags": []
   },
   "outputs": [],
   "source": [
    "import os\n",
    "import sys\n",
    "import pandas as pd\n",
    "import numpy as np \n",
    "import math\n",
    "from sklearn.preprocessing import MinMaxScaler\n",
    "from sklearn.metrics import mean_squared_error\n",
    "from sklearn.model_selection import train_test_split\n",
    "import tensorflow.compat.v1 as tf\n",
    "tf.disable_eager_execution()\n",
    "import selenium\n",
    "from bokeh.io import output_notebook\n",
    "#from utils import (get_number_processors, plot_series, to_1dimension, plot_series_prediction)\n",
    "\n",
    "print(\"OS: \", sys.platform)\n",
    "print(\"Python: \", sys.version)\n",
    "print(\"Tensorflow: \", tf.__version__)\n",
    "print(\"Numpy: \", np.__version__)\n",
    "print(\"Selenium: \", selenium.__version__)\n",
    "print(\"Number of CPU processors: \", get_number_processors())\n",
    "\n",
    "%load_ext autoreload\n",
    "%autoreload 2\n",
    "\n",
    "output_notebook()"
   ]
  },
  {
   "cell_type": "markdown",
   "metadata": {},
   "source": [
    "### Daten\n",
    "\n",
    "Die Daten, die wir verwenden werden, sind die Siemens AG-Aktienkurse von 2015 bis 2020. Der Zugriff auf die Daten ist direkt in[Yahoo finance](https://finance.yahoo.com/quote/SIEGY/history?p=SIEGY) möglich. Alternativ stellen wir Daten von Bitcoin bis USD zur Verfügung, die im selben Web zu finden sind.\n",
    "\n",
    "Der Parameter `TIME_AHEAD` legt die Anzahl der Tage fest, die Sie im Voraus vorhersagen möchten. Je mehr Sie in der Zukunft vorhersagen wollen, desto ungenauer wird die Vorhersage sein."
   ]
  },
  {
   "cell_type": "code",
   "execution_count": null,
   "metadata": {
    "tags": []
   },
   "outputs": [],
   "source": [
    "from pandas_datareader import data as web\n",
    "import datetime as dt\n",
    "\n",
    "# Zeitraum festlegen\n",
    "start = dt.datetime(2015,1,1)\n",
    "ende = dt.datetime(2020,8,14)\n",
    "\n",
    "# SIEGY (Siemens AG) Daten von Yahoo Finance laden\n",
    "df = web.DataReader('SIEGY', 'yahoo', start, ende)\n",
    "\n",
    "# Daten ausgeben\n",
    "print(df.shape)\n",
    "print(df.head())\n",
    "\n",
    "df = df.drop(['Adj Close', 'Volume'], axis=1)\n",
    "print(df.shape)\n",
    "print(df.head())"
   ]
  },
  {
   "cell_type": "code",
   "execution_count": null,
   "metadata": {
    "tags": []
   },
   "outputs": [],
   "source": [
    "#DATA = os.path.join('.', 'SIEGY_2015_2020.csv')\n",
    "DATA = os.path.join('.', 'MSFT_2015_2020.csv')\n",
    "#DATA = os.path.join('data', 'MSFT_2015_2020.csv')\n",
    "#DATA = os.path.join('data', 'MSFT_2012_2017.csv')\n",
    "#DATA = os.path.join('data', 'BTC-USD_2012_2017.csv')\n",
    "df = pd.read_csv(DATA)\n",
    "\n",
    "# Daten ausgeben\n",
    "print(df.shape)\n",
    "print(df.head())\n",
    "\n",
    "df = df.drop(['Adj Close', 'Volume'], axis=1)\n",
    "print(df.shape)\n",
    "print(df.head())"
   ]
  },
  {
   "cell_type": "markdown",
   "metadata": {},
   "source": [
    "Um das Problem zu vereinfachen, werden wir den Durchschnitt der Werte Open, High, Low und Close als Input nehmen."
   ]
  },
  {
   "cell_type": "code",
   "execution_count": null,
   "metadata": {},
   "outputs": [],
   "source": [
    "mean_price = df.mean(axis = 1)\n",
    "plot_series(mean_price, xlabel='Days', ylabel='Mean value der Siemens AG. Aktie', color='b', legend='Mean price')"
   ]
  },
  {
   "cell_type": "markdown",
   "metadata": {},
   "source": [
    "Der nächste Schritt ist die Skalierung des Datensatzes, was im Allgemeinen dazu beiträgt, dass die Vorhersage genauer ist."
   ]
  },
  {
   "cell_type": "code",
   "execution_count": null,
   "metadata": {},
   "outputs": [],
   "source": [
    "scaler = MinMaxScaler(feature_range=(0, 1)) #other typical scale values are -1,1\n",
    "mean_price = scaler.fit_transform(np.reshape(mean_price.values, (len(mean_price),1)))"
   ]
  },
  {
   "cell_type": "markdown",
   "metadata": {},
   "source": [
    "Sobald die Daten skaliert sind, können wir den Zug und die Testsets erstellen."
   ]
  },
  {
   "cell_type": "code",
   "execution_count": null,
   "metadata": {
    "tags": []
   },
   "outputs": [],
   "source": [
    "train, test = train_test_split(mean_price, test_size=TEST_SIZE, shuffle=False)\n",
    "print(train.shape)\n",
    "print(test.shape)"
   ]
  },
  {
   "cell_type": "code",
   "execution_count": null,
   "metadata": {
    "tags": []
   },
   "outputs": [],
   "source": [
    "X_train, y_train = to_1dimension(train, TIME_AHEAD)\n",
    "X_test, y_test = to_1dimension(test, TIME_AHEAD)\n",
    "print(X_train.shape, y_train.shape)\n",
    "print(X_test.shape, y_test.shape)"
   ]
  },
  {
   "cell_type": "markdown",
   "metadata": {},
   "source": [
    "### LSTM\n",
    "\n",
    "Lassen Sie uns das LSTM-Modell trainieren. Zur Optimierung verwenden wir den ADAM-Algorithmus. In Zeitreihen neigen adaptive Optimierungsmethoden dazu, bessere Ergebnisse zu erzielen als herkömmliche stochastische Gradientenabstiegsverfahren."
   ]
  },
  {
   "cell_type": "code",
   "execution_count": null,
   "metadata": {},
   "outputs": [],
   "source": [
    "def create_symbol(X, units=10, activation='linear', time_ahead=1):\n",
    "    cell = tf.nn.rnn_cell.LSTMCell(units)\n",
    "    outputs, states = tf.nn.dynamic_rnn(cell, X, dtype=tf.float32)\n",
    "    sym = tf.layers.dense(outputs[-1], 1, activation=None, name='output')#activation=None (linear activation)\n",
    "    return sym"
   ]
  },
  {
   "cell_type": "code",
   "execution_count": null,
   "metadata": {
    "tags": []
   },
   "outputs": [],
   "source": [
    "# Place-holders\n",
    "X = tf.placeholder(tf.float32, shape=[None, 1, TIME_AHEAD])\n",
    "y = tf.placeholder(tf.float32, shape=[None])\n",
    "\n",
    "sym = create_symbol(X, units=UNITS, time_ahead=TIME_AHEAD)\n",
    "\n",
    "loss = tf.reduce_mean(tf.squared_difference(sym, y)) #mse\n",
    "optimizer = tf.train.AdamOptimizer()\n",
    "model = optimizer.minimize(loss)\n",
    "\n",
    "init = tf.global_variables_initializer()\n",
    "sess = tf.Session()\n",
    "sess.run(init)"
   ]
  },
  {
   "cell_type": "code",
   "execution_count": null,
   "metadata": {
    "tags": []
   },
   "outputs": [],
   "source": [
    "for i in range(EPOCHS):\n",
    "    ii = 0\n",
    "    while(ii + BATCH_SIZE) <= len(X_train):\n",
    "        X_batch = X_train[ii:ii+BATCH_SIZE,:,:]\n",
    "        y_batch = y_train[ii:ii+BATCH_SIZE]\n",
    "        sess.run(model, feed_dict={X:X_batch, y:y_batch})\n",
    "        ii += BATCH_SIZE\n",
    "    loss_train = sess.run(loss, feed_dict={X: X_batch, y: y_batch})\n",
    "    print('Epoch {}/{}'.format(i+1, EPOCHS), ' Current loss: {}'.format(loss_train))"
   ]
  },
  {
   "cell_type": "markdown",
   "metadata": {},
   "source": [
    "Sobald das Modell trainiert ist, können wir auf dem Testset vorhersagen und den RMSE-Wert erhalten. Die Modellvorhersage `pred_test` hat die Form von `(num_rows, TIME_AHEAD)`, mit den vorhergesagten Werten für die nächsten `TIME_AHEAD` Tage."
   ]
  },
  {
   "cell_type": "code",
   "execution_count": null,
   "metadata": {},
   "outputs": [],
   "source": [
    "y_guess = np.zeros(y_test.shape[0], dtype=np.float32)\n",
    "ii = 0\n",
    "while(ii + BATCH_SIZE) <= len(X_test):\n",
    "    X_batch = X_test[ii:ii+BATCH_SIZE,:,:]\n",
    "    output = sess.run(sym, feed_dict={X:X_batch})\n",
    "    y_guess[ii:ii+BATCH_SIZE] = output\n",
    "    ii += BATCH_SIZE"
   ]
  },
  {
   "cell_type": "code",
   "execution_count": null,
   "metadata": {
    "tags": []
   },
   "outputs": [],
   "source": [
    "y_test_inv = scaler.inverse_transform([y_test])\n",
    "pred_test = scaler.inverse_transform([y_guess])\n",
    "score = math.sqrt(mean_squared_error(y_test_inv, pred_test))\n",
    "print('Test RMSE: %.2f' % (score))"
   ]
  },
  {
   "cell_type": "code",
   "execution_count": null,
   "metadata": {
    "tags": []
   },
   "outputs": [],
   "source": [
    "mean_price_inv = scaler.inverse_transform(mean_price)\n",
    "train_set = mean_price_inv[:X_train.shape[0]]\n",
    "plot_series_prediction(mean_price_inv, train_set, pred_test.T, time_ahead=TIME_AHEAD,\n",
    "                       title='Siemens AG Vorhersage fuer ' + str(TIME_AHEAD) + ' Tage', \n",
    "                       xlabel='Days', ylabel='Mean value der Siemens AG. Aktie', \n",
    "                       legend=['True value','Training set','Test prediction'])"
   ]
  },
  {
   "cell_type": "markdown",
   "metadata": {},
   "source": [
    "### Fazit\n",
    "In diesem Tutorial haben wir gesehen, wie ein LSTM verwendet werden kann, um den Aktienkurs bei einer zeitlichen Reihe von Werten vorherzusagen."
   ]
  }
 ],
 "metadata": {
  "kernelspec": {
   "display_name": "Python 3",
   "language": "python",
   "name": "python3"
  },
  "language_info": {
   "codemirror_mode": {
    "name": "ipython",
    "version": 3
   },
   "file_extension": ".py",
   "mimetype": "text/x-python",
   "name": "python",
   "nbconvert_exporter": "python",
   "pygments_lexer": "ipython3",
   "version": "3.8.3-final"
  }
 },
 "nbformat": 4,
 "nbformat_minor": 2
}